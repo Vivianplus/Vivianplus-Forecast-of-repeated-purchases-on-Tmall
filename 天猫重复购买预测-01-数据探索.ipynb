{
 "cells": [
  {
   "cell_type": "markdown",
   "id": "7d51c0ee",
   "metadata": {},
   "source": [
    "# 工具导入和数据读取\n",
    "## 工具导入"
   ]
  },
  {
   "cell_type": "code",
   "execution_count": 1,
   "id": "5cbc180f",
   "metadata": {},
   "outputs": [],
   "source": [
    "import numpy as np\n",
    "import pandas as pd\n",
    "import matplotlib.pyplot as plt\n",
    "import seaborn as sns\n",
    "from scipy import stats\n",
    "\n",
    "import warnings\n",
    "warnings.filterwarnings(\"ignore\")\n",
    " \n",
    "%matplotlib inline"
   ]
  },
  {
   "cell_type": "markdown",
   "id": "bd3067ed",
   "metadata": {},
   "source": [
    "## 数据读取"
   ]
  },
  {
   "cell_type": "code",
   "execution_count": 2,
   "id": "b3f7cc9e",
   "metadata": {},
   "outputs": [],
   "source": [
    "'''\n",
    "读取数据集\n",
    "'''\n",
    "test_data = pd.read_csv('./data_format1/test_format1.csv')\n",
    "train_data = pd.read_csv('./data_format1/train_format1.csv')\n",
    "\n",
    "user_info = pd.read_csv('./data_format1/user_info_format1.csv')\n",
    "user_log = pd.read_csv('./data_format1/user_log_format1.csv')"
   ]
  },
  {
   "cell_type": "code",
   "execution_count": 3,
   "id": "5ccec46b",
   "metadata": {},
   "outputs": [
    {
     "data": {
      "text/html": [
       "<div>\n",
       "<style scoped>\n",
       "    .dataframe tbody tr th:only-of-type {\n",
       "        vertical-align: middle;\n",
       "    }\n",
       "\n",
       "    .dataframe tbody tr th {\n",
       "        vertical-align: top;\n",
       "    }\n",
       "\n",
       "    .dataframe thead th {\n",
       "        text-align: right;\n",
       "    }\n",
       "</style>\n",
       "<table border=\"1\" class=\"dataframe\">\n",
       "  <thead>\n",
       "    <tr style=\"text-align: right;\">\n",
       "      <th></th>\n",
       "      <th>user_id</th>\n",
       "      <th>merchant_id</th>\n",
       "      <th>prob</th>\n",
       "    </tr>\n",
       "  </thead>\n",
       "  <tbody>\n",
       "    <tr>\n",
       "      <th>0</th>\n",
       "      <td>163968</td>\n",
       "      <td>4605</td>\n",
       "      <td>NaN</td>\n",
       "    </tr>\n",
       "    <tr>\n",
       "      <th>1</th>\n",
       "      <td>360576</td>\n",
       "      <td>1581</td>\n",
       "      <td>NaN</td>\n",
       "    </tr>\n",
       "    <tr>\n",
       "      <th>2</th>\n",
       "      <td>98688</td>\n",
       "      <td>1964</td>\n",
       "      <td>NaN</td>\n",
       "    </tr>\n",
       "  </tbody>\n",
       "</table>\n",
       "</div>"
      ],
      "text/plain": [
       "   user_id  merchant_id  prob\n",
       "0   163968         4605   NaN\n",
       "1   360576         1581   NaN\n",
       "2    98688         1964   NaN"
      ]
     },
     "execution_count": 3,
     "metadata": {},
     "output_type": "execute_result"
    }
   ],
   "source": [
    "test_data.head(3)"
   ]
  },
  {
   "cell_type": "code",
   "execution_count": 4,
   "id": "5d30d272",
   "metadata": {},
   "outputs": [
    {
     "data": {
      "text/html": [
       "<div>\n",
       "<style scoped>\n",
       "    .dataframe tbody tr th:only-of-type {\n",
       "        vertical-align: middle;\n",
       "    }\n",
       "\n",
       "    .dataframe tbody tr th {\n",
       "        vertical-align: top;\n",
       "    }\n",
       "\n",
       "    .dataframe thead th {\n",
       "        text-align: right;\n",
       "    }\n",
       "</style>\n",
       "<table border=\"1\" class=\"dataframe\">\n",
       "  <thead>\n",
       "    <tr style=\"text-align: right;\">\n",
       "      <th></th>\n",
       "      <th>user_id</th>\n",
       "      <th>merchant_id</th>\n",
       "      <th>label</th>\n",
       "    </tr>\n",
       "  </thead>\n",
       "  <tbody>\n",
       "    <tr>\n",
       "      <th>0</th>\n",
       "      <td>34176</td>\n",
       "      <td>3906</td>\n",
       "      <td>0</td>\n",
       "    </tr>\n",
       "    <tr>\n",
       "      <th>1</th>\n",
       "      <td>34176</td>\n",
       "      <td>121</td>\n",
       "      <td>0</td>\n",
       "    </tr>\n",
       "    <tr>\n",
       "      <th>2</th>\n",
       "      <td>34176</td>\n",
       "      <td>4356</td>\n",
       "      <td>1</td>\n",
       "    </tr>\n",
       "  </tbody>\n",
       "</table>\n",
       "</div>"
      ],
      "text/plain": [
       "   user_id  merchant_id  label\n",
       "0    34176         3906      0\n",
       "1    34176          121      0\n",
       "2    34176         4356      1"
      ]
     },
     "execution_count": 4,
     "metadata": {},
     "output_type": "execute_result"
    }
   ],
   "source": [
    "train_data.head(3)"
   ]
  },
  {
   "cell_type": "code",
   "execution_count": 5,
   "id": "28a71565",
   "metadata": {},
   "outputs": [
    {
     "data": {
      "text/html": [
       "<div>\n",
       "<style scoped>\n",
       "    .dataframe tbody tr th:only-of-type {\n",
       "        vertical-align: middle;\n",
       "    }\n",
       "\n",
       "    .dataframe tbody tr th {\n",
       "        vertical-align: top;\n",
       "    }\n",
       "\n",
       "    .dataframe thead th {\n",
       "        text-align: right;\n",
       "    }\n",
       "</style>\n",
       "<table border=\"1\" class=\"dataframe\">\n",
       "  <thead>\n",
       "    <tr style=\"text-align: right;\">\n",
       "      <th></th>\n",
       "      <th>user_id</th>\n",
       "      <th>age_range</th>\n",
       "      <th>gender</th>\n",
       "    </tr>\n",
       "  </thead>\n",
       "  <tbody>\n",
       "    <tr>\n",
       "      <th>0</th>\n",
       "      <td>376517</td>\n",
       "      <td>6.0</td>\n",
       "      <td>1.0</td>\n",
       "    </tr>\n",
       "    <tr>\n",
       "      <th>1</th>\n",
       "      <td>234512</td>\n",
       "      <td>5.0</td>\n",
       "      <td>0.0</td>\n",
       "    </tr>\n",
       "    <tr>\n",
       "      <th>2</th>\n",
       "      <td>344532</td>\n",
       "      <td>5.0</td>\n",
       "      <td>0.0</td>\n",
       "    </tr>\n",
       "  </tbody>\n",
       "</table>\n",
       "</div>"
      ],
      "text/plain": [
       "   user_id  age_range  gender\n",
       "0   376517        6.0     1.0\n",
       "1   234512        5.0     0.0\n",
       "2   344532        5.0     0.0"
      ]
     },
     "execution_count": 5,
     "metadata": {},
     "output_type": "execute_result"
    }
   ],
   "source": [
    "user_info.head(3)"
   ]
  },
  {
   "cell_type": "code",
   "execution_count": 6,
   "id": "6d583e38",
   "metadata": {},
   "outputs": [
    {
     "data": {
      "text/html": [
       "<div>\n",
       "<style scoped>\n",
       "    .dataframe tbody tr th:only-of-type {\n",
       "        vertical-align: middle;\n",
       "    }\n",
       "\n",
       "    .dataframe tbody tr th {\n",
       "        vertical-align: top;\n",
       "    }\n",
       "\n",
       "    .dataframe thead th {\n",
       "        text-align: right;\n",
       "    }\n",
       "</style>\n",
       "<table border=\"1\" class=\"dataframe\">\n",
       "  <thead>\n",
       "    <tr style=\"text-align: right;\">\n",
       "      <th></th>\n",
       "      <th>user_id</th>\n",
       "      <th>item_id</th>\n",
       "      <th>cat_id</th>\n",
       "      <th>seller_id</th>\n",
       "      <th>brand_id</th>\n",
       "      <th>time_stamp</th>\n",
       "      <th>action_type</th>\n",
       "    </tr>\n",
       "  </thead>\n",
       "  <tbody>\n",
       "    <tr>\n",
       "      <th>0</th>\n",
       "      <td>328862</td>\n",
       "      <td>323294</td>\n",
       "      <td>833</td>\n",
       "      <td>2882</td>\n",
       "      <td>2661.0</td>\n",
       "      <td>829</td>\n",
       "      <td>0</td>\n",
       "    </tr>\n",
       "    <tr>\n",
       "      <th>1</th>\n",
       "      <td>328862</td>\n",
       "      <td>844400</td>\n",
       "      <td>1271</td>\n",
       "      <td>2882</td>\n",
       "      <td>2661.0</td>\n",
       "      <td>829</td>\n",
       "      <td>0</td>\n",
       "    </tr>\n",
       "    <tr>\n",
       "      <th>2</th>\n",
       "      <td>328862</td>\n",
       "      <td>575153</td>\n",
       "      <td>1271</td>\n",
       "      <td>2882</td>\n",
       "      <td>2661.0</td>\n",
       "      <td>829</td>\n",
       "      <td>0</td>\n",
       "    </tr>\n",
       "  </tbody>\n",
       "</table>\n",
       "</div>"
      ],
      "text/plain": [
       "   user_id  item_id  cat_id  seller_id  brand_id  time_stamp  action_type\n",
       "0   328862   323294     833       2882    2661.0         829            0\n",
       "1   328862   844400    1271       2882    2661.0         829            0\n",
       "2   328862   575153    1271       2882    2661.0         829            0"
      ]
     },
     "execution_count": 6,
     "metadata": {},
     "output_type": "execute_result"
    }
   ],
   "source": [
    "user_log.head(3)"
   ]
  },
  {
   "cell_type": "markdown",
   "id": "1fdce837",
   "metadata": {},
   "source": [
    "# 单变量数据分析\n",
    "## 数据类型和数据大小\n",
    "### 1.用户信息数据"
   ]
  },
  {
   "cell_type": "code",
   "execution_count": 7,
   "id": "94fa6b2a",
   "metadata": {},
   "outputs": [
    {
     "name": "stdout",
     "output_type": "stream",
     "text": [
      "<class 'pandas.core.frame.DataFrame'>\n",
      "RangeIndex: 424170 entries, 0 to 424169\n",
      "Data columns (total 3 columns):\n",
      " #   Column     Non-Null Count   Dtype  \n",
      "---  ------     --------------   -----  \n",
      " 0   user_id    424170 non-null  int64  \n",
      " 1   age_range  421953 non-null  float64\n",
      " 2   gender     417734 non-null  float64\n",
      "dtypes: float64(2), int64(1)\n",
      "memory usage: 9.7 MB\n"
     ]
    }
   ],
   "source": [
    "user_info.info()"
   ]
  },
  {
   "cell_type": "markdown",
   "id": "50483d98",
   "metadata": {},
   "source": [
    "### 2. 用户行为数据"
   ]
  },
  {
   "cell_type": "code",
   "execution_count": 8,
   "id": "54705865",
   "metadata": {},
   "outputs": [
    {
     "name": "stdout",
     "output_type": "stream",
     "text": [
      "<class 'pandas.core.frame.DataFrame'>\n",
      "RangeIndex: 54925330 entries, 0 to 54925329\n",
      "Data columns (total 7 columns):\n",
      " #   Column       Dtype  \n",
      "---  ------       -----  \n",
      " 0   user_id      int64  \n",
      " 1   item_id      int64  \n",
      " 2   cat_id       int64  \n",
      " 3   seller_id    int64  \n",
      " 4   brand_id     float64\n",
      " 5   time_stamp   int64  \n",
      " 6   action_type  int64  \n",
      "dtypes: float64(1), int64(6)\n",
      "memory usage: 2.9 GB\n"
     ]
    }
   ],
   "source": [
    "user_log.info()"
   ]
  },
  {
   "cell_type": "markdown",
   "id": "5df42889",
   "metadata": {},
   "source": [
    "### 3. 用户购买训练数据"
   ]
  },
  {
   "cell_type": "code",
   "execution_count": 9,
   "id": "7f848cb6",
   "metadata": {},
   "outputs": [
    {
     "name": "stdout",
     "output_type": "stream",
     "text": [
      "<class 'pandas.core.frame.DataFrame'>\n",
      "RangeIndex: 260864 entries, 0 to 260863\n",
      "Data columns (total 3 columns):\n",
      " #   Column       Non-Null Count   Dtype\n",
      "---  ------       --------------   -----\n",
      " 0   user_id      260864 non-null  int64\n",
      " 1   merchant_id  260864 non-null  int64\n",
      " 2   label        260864 non-null  int64\n",
      "dtypes: int64(3)\n",
      "memory usage: 6.0 MB\n"
     ]
    }
   ],
   "source": [
    "train_data.info()"
   ]
  },
  {
   "cell_type": "markdown",
   "id": "a8d0e2fc",
   "metadata": {},
   "source": [
    "### 4.用户购买测试数据"
   ]
  },
  {
   "cell_type": "code",
   "execution_count": 10,
   "id": "c522bb85",
   "metadata": {},
   "outputs": [
    {
     "name": "stdout",
     "output_type": "stream",
     "text": [
      "<class 'pandas.core.frame.DataFrame'>\n",
      "RangeIndex: 261477 entries, 0 to 261476\n",
      "Data columns (total 3 columns):\n",
      " #   Column       Non-Null Count   Dtype  \n",
      "---  ------       --------------   -----  \n",
      " 0   user_id      261477 non-null  int64  \n",
      " 1   merchant_id  261477 non-null  int64  \n",
      " 2   prob         0 non-null       float64\n",
      "dtypes: float64(1), int64(2)\n",
      "memory usage: 6.0 MB\n"
     ]
    }
   ],
   "source": [
    "test_data.info()"
   ]
  },
  {
   "cell_type": "markdown",
   "id": "79cdc432",
   "metadata": {},
   "source": [
    "## 缺失值查看\n",
    "### 1. 用户信息数据缺失\n",
    "#### 年龄缺失：\n",
    "①年龄值为空的缺失率为0.5%\n",
    "\n",
    "②年龄值缺失或者年龄值为缺省值0共计95131条数据"
   ]
  },
  {
   "cell_type": "code",
   "execution_count": 11,
   "id": "e5dd3599",
   "metadata": {},
   "outputs": [
    {
     "data": {
      "text/plain": [
       "0.005226677982884221"
      ]
     },
     "execution_count": 11,
     "metadata": {},
     "output_type": "execute_result"
    }
   ],
   "source": [
    "(user_info.shape[0]-user_info['age_range'].count())/user_info.shape[0]"
   ]
  },
  {
   "cell_type": "code",
   "execution_count": 12,
   "id": "b955c544",
   "metadata": {},
   "outputs": [
    {
     "data": {
      "text/html": [
       "<div>\n",
       "<style scoped>\n",
       "    .dataframe tbody tr th:only-of-type {\n",
       "        vertical-align: middle;\n",
       "    }\n",
       "\n",
       "    .dataframe tbody tr th {\n",
       "        vertical-align: top;\n",
       "    }\n",
       "\n",
       "    .dataframe thead th {\n",
       "        text-align: right;\n",
       "    }\n",
       "</style>\n",
       "<table border=\"1\" class=\"dataframe\">\n",
       "  <thead>\n",
       "    <tr style=\"text-align: right;\">\n",
       "      <th></th>\n",
       "      <th>user_id</th>\n",
       "      <th>age_range</th>\n",
       "      <th>gender</th>\n",
       "    </tr>\n",
       "  </thead>\n",
       "  <tbody>\n",
       "    <tr>\n",
       "      <th>28</th>\n",
       "      <td>171799</td>\n",
       "      <td>0.0</td>\n",
       "      <td>1.0</td>\n",
       "    </tr>\n",
       "    <tr>\n",
       "      <th>103</th>\n",
       "      <td>32350</td>\n",
       "      <td>0.0</td>\n",
       "      <td>1.0</td>\n",
       "    </tr>\n",
       "    <tr>\n",
       "      <th>132</th>\n",
       "      <td>210917</td>\n",
       "      <td>0.0</td>\n",
       "      <td>1.0</td>\n",
       "    </tr>\n",
       "    <tr>\n",
       "      <th>144</th>\n",
       "      <td>38665</td>\n",
       "      <td>0.0</td>\n",
       "      <td>1.0</td>\n",
       "    </tr>\n",
       "    <tr>\n",
       "      <th>146</th>\n",
       "      <td>115159</td>\n",
       "      <td>0.0</td>\n",
       "      <td>1.0</td>\n",
       "    </tr>\n",
       "    <tr>\n",
       "      <th>...</th>\n",
       "      <td>...</td>\n",
       "      <td>...</td>\n",
       "      <td>...</td>\n",
       "    </tr>\n",
       "    <tr>\n",
       "      <th>424160</th>\n",
       "      <td>97195</td>\n",
       "      <td>NaN</td>\n",
       "      <td>NaN</td>\n",
       "    </tr>\n",
       "    <tr>\n",
       "      <th>424162</th>\n",
       "      <td>156155</td>\n",
       "      <td>0.0</td>\n",
       "      <td>1.0</td>\n",
       "    </tr>\n",
       "    <tr>\n",
       "      <th>424164</th>\n",
       "      <td>297789</td>\n",
       "      <td>0.0</td>\n",
       "      <td>1.0</td>\n",
       "    </tr>\n",
       "    <tr>\n",
       "      <th>424166</th>\n",
       "      <td>245950</td>\n",
       "      <td>0.0</td>\n",
       "      <td>1.0</td>\n",
       "    </tr>\n",
       "    <tr>\n",
       "      <th>424167</th>\n",
       "      <td>208016</td>\n",
       "      <td>NaN</td>\n",
       "      <td>NaN</td>\n",
       "    </tr>\n",
       "  </tbody>\n",
       "</table>\n",
       "<p>95131 rows × 3 columns</p>\n",
       "</div>"
      ],
      "text/plain": [
       "        user_id  age_range  gender\n",
       "28       171799        0.0     1.0\n",
       "103       32350        0.0     1.0\n",
       "132      210917        0.0     1.0\n",
       "144       38665        0.0     1.0\n",
       "146      115159        0.0     1.0\n",
       "...         ...        ...     ...\n",
       "424160    97195        NaN     NaN\n",
       "424162   156155        0.0     1.0\n",
       "424164   297789        0.0     1.0\n",
       "424166   245950        0.0     1.0\n",
       "424167   208016        NaN     NaN\n",
       "\n",
       "[95131 rows x 3 columns]"
      ]
     },
     "execution_count": 12,
     "metadata": {},
     "output_type": "execute_result"
    }
   ],
   "source": [
    "user_info[user_info['age_range'].isna()|(user_info['age_range']==0)]"
   ]
  },
  {
   "cell_type": "code",
   "execution_count": 13,
   "id": "ee90f551",
   "metadata": {},
   "outputs": [
    {
     "data": {
      "text/html": [
       "<div>\n",
       "<style scoped>\n",
       "    .dataframe tbody tr th:only-of-type {\n",
       "        vertical-align: middle;\n",
       "    }\n",
       "\n",
       "    .dataframe tbody tr th {\n",
       "        vertical-align: top;\n",
       "    }\n",
       "\n",
       "    .dataframe thead th {\n",
       "        text-align: right;\n",
       "    }\n",
       "</style>\n",
       "<table border=\"1\" class=\"dataframe\">\n",
       "  <thead>\n",
       "    <tr style=\"text-align: right;\">\n",
       "      <th></th>\n",
       "      <th>user_id</th>\n",
       "    </tr>\n",
       "    <tr>\n",
       "      <th>age_range</th>\n",
       "      <th></th>\n",
       "    </tr>\n",
       "  </thead>\n",
       "  <tbody>\n",
       "    <tr>\n",
       "      <th>0.0</th>\n",
       "      <td>92914</td>\n",
       "    </tr>\n",
       "    <tr>\n",
       "      <th>1.0</th>\n",
       "      <td>24</td>\n",
       "    </tr>\n",
       "    <tr>\n",
       "      <th>2.0</th>\n",
       "      <td>52871</td>\n",
       "    </tr>\n",
       "    <tr>\n",
       "      <th>3.0</th>\n",
       "      <td>111654</td>\n",
       "    </tr>\n",
       "    <tr>\n",
       "      <th>4.0</th>\n",
       "      <td>79991</td>\n",
       "    </tr>\n",
       "    <tr>\n",
       "      <th>5.0</th>\n",
       "      <td>40777</td>\n",
       "    </tr>\n",
       "    <tr>\n",
       "      <th>6.0</th>\n",
       "      <td>35464</td>\n",
       "    </tr>\n",
       "    <tr>\n",
       "      <th>7.0</th>\n",
       "      <td>6992</td>\n",
       "    </tr>\n",
       "    <tr>\n",
       "      <th>8.0</th>\n",
       "      <td>1266</td>\n",
       "    </tr>\n",
       "  </tbody>\n",
       "</table>\n",
       "</div>"
      ],
      "text/plain": [
       "           user_id\n",
       "age_range         \n",
       "0.0          92914\n",
       "1.0             24\n",
       "2.0          52871\n",
       "3.0         111654\n",
       "4.0          79991\n",
       "5.0          40777\n",
       "6.0          35464\n",
       "7.0           6992\n",
       "8.0           1266"
      ]
     },
     "execution_count": 13,
     "metadata": {},
     "output_type": "execute_result"
    }
   ],
   "source": [
    "user_info.groupby(['age_range'])[['user_id']].count()"
   ]
  },
  {
   "cell_type": "markdown",
   "id": "cf3f169f",
   "metadata": {},
   "source": [
    "#### 性别缺失\n",
    "①性别值为空的缺失率 1.5%\n",
    "\n",
    "②性别值缺失或者性别为缺省值2共计16862条数据"
   ]
  },
  {
   "cell_type": "code",
   "execution_count": 14,
   "id": "f9fdaaa1",
   "metadata": {},
   "outputs": [
    {
     "data": {
      "text/plain": [
       "0.01517316170403376"
      ]
     },
     "execution_count": 14,
     "metadata": {},
     "output_type": "execute_result"
    }
   ],
   "source": [
    "(user_info.shape[0]-user_info['gender'].count())/user_info.shape[0]"
   ]
  },
  {
   "cell_type": "code",
   "execution_count": 15,
   "id": "31319620",
   "metadata": {},
   "outputs": [
    {
     "data": {
      "text/html": [
       "<div>\n",
       "<style scoped>\n",
       "    .dataframe tbody tr th:only-of-type {\n",
       "        vertical-align: middle;\n",
       "    }\n",
       "\n",
       "    .dataframe tbody tr th {\n",
       "        vertical-align: top;\n",
       "    }\n",
       "\n",
       "    .dataframe thead th {\n",
       "        text-align: right;\n",
       "    }\n",
       "</style>\n",
       "<table border=\"1\" class=\"dataframe\">\n",
       "  <thead>\n",
       "    <tr style=\"text-align: right;\">\n",
       "      <th></th>\n",
       "      <th>user_id</th>\n",
       "      <th>age_range</th>\n",
       "      <th>gender</th>\n",
       "    </tr>\n",
       "  </thead>\n",
       "  <tbody>\n",
       "    <tr>\n",
       "      <th>10</th>\n",
       "      <td>149002</td>\n",
       "      <td>5.0</td>\n",
       "      <td>2.0</td>\n",
       "    </tr>\n",
       "    <tr>\n",
       "      <th>42</th>\n",
       "      <td>116591</td>\n",
       "      <td>4.0</td>\n",
       "      <td>2.0</td>\n",
       "    </tr>\n",
       "    <tr>\n",
       "      <th>47</th>\n",
       "      <td>182794</td>\n",
       "      <td>6.0</td>\n",
       "      <td>2.0</td>\n",
       "    </tr>\n",
       "    <tr>\n",
       "      <th>55</th>\n",
       "      <td>97984</td>\n",
       "      <td>5.0</td>\n",
       "      <td>2.0</td>\n",
       "    </tr>\n",
       "    <tr>\n",
       "      <th>72</th>\n",
       "      <td>15868</td>\n",
       "      <td>5.0</td>\n",
       "      <td>2.0</td>\n",
       "    </tr>\n",
       "    <tr>\n",
       "      <th>...</th>\n",
       "      <td>...</td>\n",
       "      <td>...</td>\n",
       "      <td>...</td>\n",
       "    </tr>\n",
       "    <tr>\n",
       "      <th>424149</th>\n",
       "      <td>65154</td>\n",
       "      <td>NaN</td>\n",
       "      <td>NaN</td>\n",
       "    </tr>\n",
       "    <tr>\n",
       "      <th>424152</th>\n",
       "      <td>197548</td>\n",
       "      <td>NaN</td>\n",
       "      <td>NaN</td>\n",
       "    </tr>\n",
       "    <tr>\n",
       "      <th>424157</th>\n",
       "      <td>388969</td>\n",
       "      <td>NaN</td>\n",
       "      <td>NaN</td>\n",
       "    </tr>\n",
       "    <tr>\n",
       "      <th>424160</th>\n",
       "      <td>97195</td>\n",
       "      <td>NaN</td>\n",
       "      <td>NaN</td>\n",
       "    </tr>\n",
       "    <tr>\n",
       "      <th>424167</th>\n",
       "      <td>208016</td>\n",
       "      <td>NaN</td>\n",
       "      <td>NaN</td>\n",
       "    </tr>\n",
       "  </tbody>\n",
       "</table>\n",
       "<p>16862 rows × 3 columns</p>\n",
       "</div>"
      ],
      "text/plain": [
       "        user_id  age_range  gender\n",
       "10       149002        5.0     2.0\n",
       "42       116591        4.0     2.0\n",
       "47       182794        6.0     2.0\n",
       "55        97984        5.0     2.0\n",
       "72        15868        5.0     2.0\n",
       "...         ...        ...     ...\n",
       "424149    65154        NaN     NaN\n",
       "424152   197548        NaN     NaN\n",
       "424157   388969        NaN     NaN\n",
       "424160    97195        NaN     NaN\n",
       "424167   208016        NaN     NaN\n",
       "\n",
       "[16862 rows x 3 columns]"
      ]
     },
     "execution_count": 15,
     "metadata": {},
     "output_type": "execute_result"
    }
   ],
   "source": [
    "user_info[user_info['gender'].isna()|(user_info['gender']==2)]"
   ]
  },
  {
   "cell_type": "code",
   "execution_count": 16,
   "id": "c6605ab9",
   "metadata": {},
   "outputs": [
    {
     "data": {
      "text/html": [
       "<div>\n",
       "<style scoped>\n",
       "    .dataframe tbody tr th:only-of-type {\n",
       "        vertical-align: middle;\n",
       "    }\n",
       "\n",
       "    .dataframe tbody tr th {\n",
       "        vertical-align: top;\n",
       "    }\n",
       "\n",
       "    .dataframe thead th {\n",
       "        text-align: right;\n",
       "    }\n",
       "</style>\n",
       "<table border=\"1\" class=\"dataframe\">\n",
       "  <thead>\n",
       "    <tr style=\"text-align: right;\">\n",
       "      <th></th>\n",
       "      <th>user_id</th>\n",
       "    </tr>\n",
       "    <tr>\n",
       "      <th>gender</th>\n",
       "      <th></th>\n",
       "    </tr>\n",
       "  </thead>\n",
       "  <tbody>\n",
       "    <tr>\n",
       "      <th>0.0</th>\n",
       "      <td>285638</td>\n",
       "    </tr>\n",
       "    <tr>\n",
       "      <th>1.0</th>\n",
       "      <td>121670</td>\n",
       "    </tr>\n",
       "    <tr>\n",
       "      <th>2.0</th>\n",
       "      <td>10426</td>\n",
       "    </tr>\n",
       "  </tbody>\n",
       "</table>\n",
       "</div>"
      ],
      "text/plain": [
       "        user_id\n",
       "gender         \n",
       "0.0      285638\n",
       "1.0      121670\n",
       "2.0       10426"
      ]
     },
     "execution_count": 16,
     "metadata": {},
     "output_type": "execute_result"
    }
   ],
   "source": [
    "user_info.groupby(['gender'])[['user_id']].count()"
   ]
  },
  {
   "cell_type": "markdown",
   "id": "e3dc7603",
   "metadata": {},
   "source": [
    "#### 年龄或者性别中有一个含有缺失值\n",
    "共计106330条数据"
   ]
  },
  {
   "cell_type": "code",
   "execution_count": 17,
   "id": "d28a1cc3",
   "metadata": {},
   "outputs": [
    {
     "data": {
      "text/html": [
       "<div>\n",
       "<style scoped>\n",
       "    .dataframe tbody tr th:only-of-type {\n",
       "        vertical-align: middle;\n",
       "    }\n",
       "\n",
       "    .dataframe tbody tr th {\n",
       "        vertical-align: top;\n",
       "    }\n",
       "\n",
       "    .dataframe thead th {\n",
       "        text-align: right;\n",
       "    }\n",
       "</style>\n",
       "<table border=\"1\" class=\"dataframe\">\n",
       "  <thead>\n",
       "    <tr style=\"text-align: right;\">\n",
       "      <th></th>\n",
       "      <th>user_id</th>\n",
       "      <th>age_range</th>\n",
       "      <th>gender</th>\n",
       "    </tr>\n",
       "  </thead>\n",
       "  <tbody>\n",
       "    <tr>\n",
       "      <th>10</th>\n",
       "      <td>149002</td>\n",
       "      <td>5.0</td>\n",
       "      <td>2.0</td>\n",
       "    </tr>\n",
       "    <tr>\n",
       "      <th>28</th>\n",
       "      <td>171799</td>\n",
       "      <td>0.0</td>\n",
       "      <td>1.0</td>\n",
       "    </tr>\n",
       "    <tr>\n",
       "      <th>42</th>\n",
       "      <td>116591</td>\n",
       "      <td>4.0</td>\n",
       "      <td>2.0</td>\n",
       "    </tr>\n",
       "    <tr>\n",
       "      <th>47</th>\n",
       "      <td>182794</td>\n",
       "      <td>6.0</td>\n",
       "      <td>2.0</td>\n",
       "    </tr>\n",
       "    <tr>\n",
       "      <th>55</th>\n",
       "      <td>97984</td>\n",
       "      <td>5.0</td>\n",
       "      <td>2.0</td>\n",
       "    </tr>\n",
       "    <tr>\n",
       "      <th>...</th>\n",
       "      <td>...</td>\n",
       "      <td>...</td>\n",
       "      <td>...</td>\n",
       "    </tr>\n",
       "    <tr>\n",
       "      <th>424160</th>\n",
       "      <td>97195</td>\n",
       "      <td>NaN</td>\n",
       "      <td>NaN</td>\n",
       "    </tr>\n",
       "    <tr>\n",
       "      <th>424162</th>\n",
       "      <td>156155</td>\n",
       "      <td>0.0</td>\n",
       "      <td>1.0</td>\n",
       "    </tr>\n",
       "    <tr>\n",
       "      <th>424164</th>\n",
       "      <td>297789</td>\n",
       "      <td>0.0</td>\n",
       "      <td>1.0</td>\n",
       "    </tr>\n",
       "    <tr>\n",
       "      <th>424166</th>\n",
       "      <td>245950</td>\n",
       "      <td>0.0</td>\n",
       "      <td>1.0</td>\n",
       "    </tr>\n",
       "    <tr>\n",
       "      <th>424167</th>\n",
       "      <td>208016</td>\n",
       "      <td>NaN</td>\n",
       "      <td>NaN</td>\n",
       "    </tr>\n",
       "  </tbody>\n",
       "</table>\n",
       "<p>106330 rows × 3 columns</p>\n",
       "</div>"
      ],
      "text/plain": [
       "        user_id  age_range  gender\n",
       "10       149002        5.0     2.0\n",
       "28       171799        0.0     1.0\n",
       "42       116591        4.0     2.0\n",
       "47       182794        6.0     2.0\n",
       "55        97984        5.0     2.0\n",
       "...         ...        ...     ...\n",
       "424160    97195        NaN     NaN\n",
       "424162   156155        0.0     1.0\n",
       "424164   297789        0.0     1.0\n",
       "424166   245950        0.0     1.0\n",
       "424167   208016        NaN     NaN\n",
       "\n",
       "[106330 rows x 3 columns]"
      ]
     },
     "execution_count": 17,
     "metadata": {},
     "output_type": "execute_result"
    }
   ],
   "source": [
    "user_info[user_info['age_range'].isna()|(user_info['age_range']==0)|user_info['gender'].isna()|(user_info['gender']==2)]"
   ]
  },
  {
   "cell_type": "markdown",
   "id": "78186d5e",
   "metadata": {},
   "source": [
    "### 2. 用户行为数据缺失"
   ]
  },
  {
   "cell_type": "code",
   "execution_count": 18,
   "id": "ed8fffd3",
   "metadata": {},
   "outputs": [
    {
     "data": {
      "text/plain": [
       "user_id            0\n",
       "item_id            0\n",
       "cat_id             0\n",
       "seller_id          0\n",
       "brand_id       91015\n",
       "time_stamp         0\n",
       "action_type        0\n",
       "dtype: int64"
      ]
     },
     "execution_count": 18,
     "metadata": {},
     "output_type": "execute_result"
    }
   ],
   "source": [
    "user_log.isna().sum()"
   ]
  },
  {
   "cell_type": "markdown",
   "id": "358e3333",
   "metadata": {},
   "source": [
    "## 观察数据分布\n",
    "### 整体数据统计信息"
   ]
  },
  {
   "cell_type": "code",
   "execution_count": 19,
   "id": "6b2947c3",
   "metadata": {},
   "outputs": [
    {
     "data": {
      "text/html": [
       "<div>\n",
       "<style scoped>\n",
       "    .dataframe tbody tr th:only-of-type {\n",
       "        vertical-align: middle;\n",
       "    }\n",
       "\n",
       "    .dataframe tbody tr th {\n",
       "        vertical-align: top;\n",
       "    }\n",
       "\n",
       "    .dataframe thead th {\n",
       "        text-align: right;\n",
       "    }\n",
       "</style>\n",
       "<table border=\"1\" class=\"dataframe\">\n",
       "  <thead>\n",
       "    <tr style=\"text-align: right;\">\n",
       "      <th></th>\n",
       "      <th>user_id</th>\n",
       "      <th>age_range</th>\n",
       "      <th>gender</th>\n",
       "    </tr>\n",
       "  </thead>\n",
       "  <tbody>\n",
       "    <tr>\n",
       "      <th>count</th>\n",
       "      <td>424170.000000</td>\n",
       "      <td>421953.000000</td>\n",
       "      <td>417734.000000</td>\n",
       "    </tr>\n",
       "    <tr>\n",
       "      <th>mean</th>\n",
       "      <td>212085.500000</td>\n",
       "      <td>2.930262</td>\n",
       "      <td>0.341179</td>\n",
       "    </tr>\n",
       "    <tr>\n",
       "      <th>std</th>\n",
       "      <td>122447.476178</td>\n",
       "      <td>1.942978</td>\n",
       "      <td>0.524112</td>\n",
       "    </tr>\n",
       "    <tr>\n",
       "      <th>min</th>\n",
       "      <td>1.000000</td>\n",
       "      <td>0.000000</td>\n",
       "      <td>0.000000</td>\n",
       "    </tr>\n",
       "    <tr>\n",
       "      <th>25%</th>\n",
       "      <td>106043.250000</td>\n",
       "      <td>2.000000</td>\n",
       "      <td>0.000000</td>\n",
       "    </tr>\n",
       "    <tr>\n",
       "      <th>50%</th>\n",
       "      <td>212085.500000</td>\n",
       "      <td>3.000000</td>\n",
       "      <td>0.000000</td>\n",
       "    </tr>\n",
       "    <tr>\n",
       "      <th>75%</th>\n",
       "      <td>318127.750000</td>\n",
       "      <td>4.000000</td>\n",
       "      <td>1.000000</td>\n",
       "    </tr>\n",
       "    <tr>\n",
       "      <th>max</th>\n",
       "      <td>424170.000000</td>\n",
       "      <td>8.000000</td>\n",
       "      <td>2.000000</td>\n",
       "    </tr>\n",
       "  </tbody>\n",
       "</table>\n",
       "</div>"
      ],
      "text/plain": [
       "             user_id      age_range         gender\n",
       "count  424170.000000  421953.000000  417734.000000\n",
       "mean   212085.500000       2.930262       0.341179\n",
       "std    122447.476178       1.942978       0.524112\n",
       "min         1.000000       0.000000       0.000000\n",
       "25%    106043.250000       2.000000       0.000000\n",
       "50%    212085.500000       3.000000       0.000000\n",
       "75%    318127.750000       4.000000       1.000000\n",
       "max    424170.000000       8.000000       2.000000"
      ]
     },
     "execution_count": 19,
     "metadata": {},
     "output_type": "execute_result"
    }
   ],
   "source": [
    "user_info.describe()"
   ]
  },
  {
   "cell_type": "code",
   "execution_count": 20,
   "id": "884c2e12",
   "metadata": {},
   "outputs": [
    {
     "data": {
      "text/html": [
       "<div>\n",
       "<style scoped>\n",
       "    .dataframe tbody tr th:only-of-type {\n",
       "        vertical-align: middle;\n",
       "    }\n",
       "\n",
       "    .dataframe tbody tr th {\n",
       "        vertical-align: top;\n",
       "    }\n",
       "\n",
       "    .dataframe thead th {\n",
       "        text-align: right;\n",
       "    }\n",
       "</style>\n",
       "<table border=\"1\" class=\"dataframe\">\n",
       "  <thead>\n",
       "    <tr style=\"text-align: right;\">\n",
       "      <th></th>\n",
       "      <th>user_id</th>\n",
       "      <th>item_id</th>\n",
       "      <th>cat_id</th>\n",
       "      <th>seller_id</th>\n",
       "      <th>brand_id</th>\n",
       "      <th>time_stamp</th>\n",
       "      <th>action_type</th>\n",
       "    </tr>\n",
       "  </thead>\n",
       "  <tbody>\n",
       "    <tr>\n",
       "      <th>count</th>\n",
       "      <td>5.492533e+07</td>\n",
       "      <td>5.492533e+07</td>\n",
       "      <td>5.492533e+07</td>\n",
       "      <td>5.492533e+07</td>\n",
       "      <td>5.483432e+07</td>\n",
       "      <td>5.492533e+07</td>\n",
       "      <td>5.492533e+07</td>\n",
       "    </tr>\n",
       "    <tr>\n",
       "      <th>mean</th>\n",
       "      <td>2.121568e+05</td>\n",
       "      <td>5.538613e+05</td>\n",
       "      <td>8.770308e+02</td>\n",
       "      <td>2.470941e+03</td>\n",
       "      <td>4.153348e+03</td>\n",
       "      <td>9.230953e+02</td>\n",
       "      <td>2.854458e-01</td>\n",
       "    </tr>\n",
       "    <tr>\n",
       "      <th>std</th>\n",
       "      <td>1.222872e+05</td>\n",
       "      <td>3.221459e+05</td>\n",
       "      <td>4.486269e+02</td>\n",
       "      <td>1.473310e+03</td>\n",
       "      <td>2.397679e+03</td>\n",
       "      <td>1.954305e+02</td>\n",
       "      <td>8.075806e-01</td>\n",
       "    </tr>\n",
       "    <tr>\n",
       "      <th>min</th>\n",
       "      <td>1.000000e+00</td>\n",
       "      <td>1.000000e+00</td>\n",
       "      <td>1.000000e+00</td>\n",
       "      <td>1.000000e+00</td>\n",
       "      <td>1.000000e+00</td>\n",
       "      <td>5.110000e+02</td>\n",
       "      <td>0.000000e+00</td>\n",
       "    </tr>\n",
       "    <tr>\n",
       "      <th>25%</th>\n",
       "      <td>1.063360e+05</td>\n",
       "      <td>2.731680e+05</td>\n",
       "      <td>5.550000e+02</td>\n",
       "      <td>1.151000e+03</td>\n",
       "      <td>2.027000e+03</td>\n",
       "      <td>7.300000e+02</td>\n",
       "      <td>0.000000e+00</td>\n",
       "    </tr>\n",
       "    <tr>\n",
       "      <th>50%</th>\n",
       "      <td>2.126540e+05</td>\n",
       "      <td>5.555290e+05</td>\n",
       "      <td>8.210000e+02</td>\n",
       "      <td>2.459000e+03</td>\n",
       "      <td>4.065000e+03</td>\n",
       "      <td>1.010000e+03</td>\n",
       "      <td>0.000000e+00</td>\n",
       "    </tr>\n",
       "    <tr>\n",
       "      <th>75%</th>\n",
       "      <td>3.177500e+05</td>\n",
       "      <td>8.306890e+05</td>\n",
       "      <td>1.252000e+03</td>\n",
       "      <td>3.760000e+03</td>\n",
       "      <td>6.196000e+03</td>\n",
       "      <td>1.109000e+03</td>\n",
       "      <td>0.000000e+00</td>\n",
       "    </tr>\n",
       "    <tr>\n",
       "      <th>max</th>\n",
       "      <td>4.241700e+05</td>\n",
       "      <td>1.113166e+06</td>\n",
       "      <td>1.671000e+03</td>\n",
       "      <td>4.995000e+03</td>\n",
       "      <td>8.477000e+03</td>\n",
       "      <td>1.112000e+03</td>\n",
       "      <td>3.000000e+00</td>\n",
       "    </tr>\n",
       "  </tbody>\n",
       "</table>\n",
       "</div>"
      ],
      "text/plain": [
       "            user_id       item_id        cat_id     seller_id      brand_id  \\\n",
       "count  5.492533e+07  5.492533e+07  5.492533e+07  5.492533e+07  5.483432e+07   \n",
       "mean   2.121568e+05  5.538613e+05  8.770308e+02  2.470941e+03  4.153348e+03   \n",
       "std    1.222872e+05  3.221459e+05  4.486269e+02  1.473310e+03  2.397679e+03   \n",
       "min    1.000000e+00  1.000000e+00  1.000000e+00  1.000000e+00  1.000000e+00   \n",
       "25%    1.063360e+05  2.731680e+05  5.550000e+02  1.151000e+03  2.027000e+03   \n",
       "50%    2.126540e+05  5.555290e+05  8.210000e+02  2.459000e+03  4.065000e+03   \n",
       "75%    3.177500e+05  8.306890e+05  1.252000e+03  3.760000e+03  6.196000e+03   \n",
       "max    4.241700e+05  1.113166e+06  1.671000e+03  4.995000e+03  8.477000e+03   \n",
       "\n",
       "         time_stamp   action_type  \n",
       "count  5.492533e+07  5.492533e+07  \n",
       "mean   9.230953e+02  2.854458e-01  \n",
       "std    1.954305e+02  8.075806e-01  \n",
       "min    5.110000e+02  0.000000e+00  \n",
       "25%    7.300000e+02  0.000000e+00  \n",
       "50%    1.010000e+03  0.000000e+00  \n",
       "75%    1.109000e+03  0.000000e+00  \n",
       "max    1.112000e+03  3.000000e+00  "
      ]
     },
     "execution_count": 20,
     "metadata": {},
     "output_type": "execute_result"
    }
   ],
   "source": [
    "user_log.describe()"
   ]
  },
  {
   "cell_type": "markdown",
   "id": "5a4c344f",
   "metadata": {},
   "source": [
    "### 查看用户购买训练数据中正负样本的分布"
   ]
  },
  {
   "cell_type": "code",
   "execution_count": 21,
   "id": "87c239dd",
   "metadata": {},
   "outputs": [
    {
     "name": "stdout",
     "output_type": "stream",
     "text": [
      "正负样本的数量：\n",
      "                       total\n",
      "Non-repeat customer  244912\n",
      "Repeat customer       15952\n"
     ]
    },
    {
     "data": {
      "image/png": "[encoded data removed]",
      "text/plain": [
       "<Figure size 1440x432 with 2 Axes>"
      ]
     },
     "metadata": {
      "needs_background": "light"
     },
     "output_type": "display_data"
    }
   ],
   "source": [
    "fig,axes = plt.subplots(1,2,figsize=(20,6))\n",
    "pie_data = train_data.groupby(['label'])[['user_id']].count()\n",
    "pie_data.index = pd.Series(['Non-repeat customer','Repeat customer'])\n",
    "pie_data.columns = pd.Series(['total'])\n",
    "print('正负样本的数量：\\n',pie_data)\n",
    "\n",
    "x_data = pie_data.iloc[:,0]\n",
    "x_data.plot.pie(ax=axes[0],\n",
    "            title='Pie Chart of Train data labels',\n",
    "            autopct='%.2f%%',\n",
    "            explode=(0,0.2))\n",
    "x_data.plot.bar(ax=axes[1],\n",
    "               title='Bar Chart of Train data labels')\n",
    "plt.show()\n"
   ]
  },
  {
   "cell_type": "markdown",
   "id": "6154ffbb",
   "metadata": {},
   "source": [
    "**总结**：从上图可以看出训练样本的正负比例非常不平衡，类别不均衡将会造成分类器对数量多的类别过拟合，而对其他数量少的类别欠拟合。\n",
    "\n",
    "**采取的措施**：\n",
    "\n",
    "① 因为样本总数较大（>10000），根据欠采样，将一份正样本和多份负样本组合成多份训练集，训练多个模型后求平均\n",
    "\n",
    "②调整模型的权重\n",
    "\n",
    "**Reference**:https://www.cnblogs.com/massquantity/p/9382710.html"
   ]
  },
  {
   "cell_type": "markdown",
   "id": "f1f83037",
   "metadata": {},
   "source": [
    "## 探查商店、用户、性别以及年龄对复购的影响\n",
    "### 查看不同商店与复购的关系"
   ]
  },
  {
   "cell_type": "code",
   "execution_count": 22,
   "id": "00b86361",
   "metadata": {},
   "outputs": [
    {
     "name": "stdout",
     "output_type": "stream",
     "text": [
      "选取Top5商店：\n",
      "商店\t购买次数\n",
      "4044    3379\n",
      "3828    3254\n",
      "4173    2542\n",
      "1102    2483\n",
      "4976    1925\n",
      "Name: merchant_id, dtype: int64\n"
     ]
    },
    {
     "data": {
      "image/png": "[encoded data removed]",
      "text/plain": [
       "<Figure size 576x432 with 1 Axes>"
      ]
     },
     "metadata": {
      "needs_background": "light"
     },
     "output_type": "display_data"
    }
   ],
   "source": [
    "print(\"选取Top5商店：\\n商店\\t购买次数\")\n",
    "print(train_data['merchant_id'].value_counts(ascending=False).head(5))\n",
    "\n",
    "# 选取与销量前5名的商家相关的用户购买训练数据\n",
    "train_data_merchant = train_data.copy()\n",
    "train_data_merchant['Top5'] = train_data_merchant['merchant_id'].map(lambda x: 1 if x in [4044,3828,4173,1102,4976] else 0)\n",
    "train_data_merchant = train_data_merchant[train_data_merchant['Top5']==1]\n",
    "\n",
    "plt.figure(figsize=(8,6))\n",
    "plt.title('Merchant VS label')\n",
    "ax = sns.countplot(data=train_data_merchant,x='merchant_id',hue='label')"
   ]
  },
  {
   "cell_type": "markdown",
   "id": "4d7967a1",
   "metadata": {},
   "source": [
    "从图中可以看出不同商店有不同的复购率，可能与不同商店售卖的商品有关，也可能与商店的运营有关。\n",
    "\n",
    "### 复购率计算方法（以商店为例）：\n",
    "**1.** 根据商店ID分组\n",
    "\n",
    "**2.** 对每个分组内的label求和 ——> sum(label)\n",
    "\n",
    "**3.** 根据分组内label的总数totalNumber求平均值 ——> 某商店的复购率 = sum(label)/totalNumber\n",
    "\n",
    "### 分布直方图（如下左图）：\n",
    "**1. 蓝线**：真实变量取值分布\n",
    "\n",
    "**2. 黑线**：在真实变量取值范围内的正态分布\n",
    "\n",
    "\n",
    "### QQ图（如下右图）：\n",
    "**1.** 用于检查数据是否符合正态分布\n",
    "\n",
    "**2.** Reference: https://zhuanlan.zhihu.com/p/346467939\n",
    "\n",
    "### 查看商店复购概率分布"
   ]
  },
  {
   "cell_type": "code",
   "execution_count": 23,
   "id": "18e37f14",
   "metadata": {},
   "outputs": [
    {
     "data": {
      "text/plain": [
       "Text(0.5, 1.0, 'Quantile-Quantile Plot')"
      ]
     },
     "execution_count": 23,
     "metadata": {},
     "output_type": "execute_result"
    },
    {
     "data": {
      "image/png": "[encoded data removed]",
      "text/plain": [
       "<Figure size 720x360 with 2 Axes>"
      ]
     },
     "metadata": {
      "needs_background": "light"
     },
     "output_type": "display_data"
    }
   ],
   "source": [
    "#筛选复购率在（0,1]范围内的商店\n",
    "merchant_repeat_buy = list(train_data.groupby('merchant_id')['label'].mean())\n",
    "merchant_repeat_buy = [n for n in merchant_repeat_buy if (n > 0 and n <=1) ]\n",
    "# 生成商店的复购率分布直方图&qq图\n",
    "plt.figure(figsize=(10,5))\n",
    "ax = plt.subplot(1,2,1)\n",
    "sns.distplot(merchant_repeat_buy,fit=stats.norm,hist=False)\n",
    "plt.title('Distribution of repurchase rates of different stores')\n",
    "ax = plt.subplot(1,2,2)\n",
    "stats.probplot(merchant_repeat_buy,dist=\"norm\",plot=plt)\n",
    "plt.title('Quantile-Quantile Plot')"
   ]
  },
  {
   "cell_type": "markdown",
   "id": "a9423057",
   "metadata": {},
   "source": [
    "**[Finding]**\n",
    "\n",
    "**左图**：所有商店的大致复购率集中在0-0.3之间\n",
    "\n",
    "**右图**：所有商店的复购率不服从正态分布"
   ]
  },
  {
   "cell_type": "markdown",
   "id": "d00d02d4",
   "metadata": {},
   "source": [
    "### 查看用户复购概率分布"
   ]
  },
  {
   "cell_type": "code",
   "execution_count": 24,
   "id": "6a56a364",
   "metadata": {
    "scrolled": false
   },
   "outputs": [
    {
     "data": {
      "text/plain": [
       "Text(0.5, 1.0, 'Quantile-Quantile Plot')"
      ]
     },
     "execution_count": 24,
     "metadata": {},
     "output_type": "execute_result"
    },
    {
     "data": {
      "image/png": "[encoded data removed]",
      "text/plain": [
       "<Figure size 1224x360 with 3 Axes>"
      ]
     },
     "metadata": {
      "needs_background": "light"
     },
     "output_type": "display_data"
    }
   ],
   "source": [
    "#筛选复购率在（0,1]范围内的用户\n",
    "user_repeat_buy = list(train_data.groupby('user_id')['label'].mean())\n",
    "user_repeat_buy = [n for n in user_repeat_buy if (n > 0 and n <= 1)]\n",
    "# 购买总数为1-17的总数\n",
    "user_buy_number = train_data.groupby(['user_id'])[['label']].count()\n",
    "user_buy_number = user_buy_number['label'].value_counts()\n",
    "# 生成购买总数的分布图\n",
    "plt.figure(figsize=(17,5))\n",
    "ax = plt.subplot(1,3,1)\n",
    "user_buy_number.plot.bar(title='Distribution of total purchases')\n",
    "# 生成商店的复购率分布直方图&qq图\n",
    "ax = plt.subplot(1,3,2)\n",
    "sns.distplot(user_repeat_buy,hist=False,fit=stats.norm)\n",
    "plt.title('Distribution of repurchase rates of different users')\n",
    "ax = plt.subplot(1,3,3)\n",
    "stats.probplot(user_repeat_buy,dist=\"norm\",plot=plt)\n",
    "plt.title('Quantile-Quantile Plot')"
   ]
  },
  {
   "cell_type": "markdown",
   "id": "716195e4",
   "metadata": {},
   "source": [
    "**[Finding]**\n",
    "\n",
    "**左图**：购买总数为1次的用户最多，约为175000人\n",
    "\n",
    "**中图**：复购率为1.0的用户最多，结合复购率的计算方法及左图的结果，推断可以看出近6个月，用户复购率很小，基本买一次为主\n",
    "\n",
    "**右图**：所有用户的复购率不服从正态分布"
   ]
  },
  {
   "cell_type": "code",
   "execution_count": 25,
   "id": "e0992d19",
   "metadata": {},
   "outputs": [
    {
     "data": {
      "text/html": [
       "<div>\n",
       "<style scoped>\n",
       "    .dataframe tbody tr th:only-of-type {\n",
       "        vertical-align: middle;\n",
       "    }\n",
       "\n",
       "    .dataframe tbody tr th {\n",
       "        vertical-align: top;\n",
       "    }\n",
       "\n",
       "    .dataframe thead th {\n",
       "        text-align: right;\n",
       "    }\n",
       "</style>\n",
       "<table border=\"1\" class=\"dataframe\">\n",
       "  <thead>\n",
       "    <tr style=\"text-align: right;\">\n",
       "      <th></th>\n",
       "      <th>user_id</th>\n",
       "      <th>merchant_id</th>\n",
       "      <th>label</th>\n",
       "      <th>age_range</th>\n",
       "      <th>gender</th>\n",
       "    </tr>\n",
       "  </thead>\n",
       "  <tbody>\n",
       "    <tr>\n",
       "      <th>0</th>\n",
       "      <td>34176</td>\n",
       "      <td>3906</td>\n",
       "      <td>0</td>\n",
       "      <td>6.0</td>\n",
       "      <td>0.0</td>\n",
       "    </tr>\n",
       "    <tr>\n",
       "      <th>1</th>\n",
       "      <td>34176</td>\n",
       "      <td>121</td>\n",
       "      <td>0</td>\n",
       "      <td>6.0</td>\n",
       "      <td>0.0</td>\n",
       "    </tr>\n",
       "    <tr>\n",
       "      <th>2</th>\n",
       "      <td>34176</td>\n",
       "      <td>4356</td>\n",
       "      <td>1</td>\n",
       "      <td>6.0</td>\n",
       "      <td>0.0</td>\n",
       "    </tr>\n",
       "    <tr>\n",
       "      <th>3</th>\n",
       "      <td>34176</td>\n",
       "      <td>2217</td>\n",
       "      <td>0</td>\n",
       "      <td>6.0</td>\n",
       "      <td>0.0</td>\n",
       "    </tr>\n",
       "    <tr>\n",
       "      <th>4</th>\n",
       "      <td>230784</td>\n",
       "      <td>4818</td>\n",
       "      <td>0</td>\n",
       "      <td>0.0</td>\n",
       "      <td>0.0</td>\n",
       "    </tr>\n",
       "  </tbody>\n",
       "</table>\n",
       "</div>"
      ],
      "text/plain": [
       "   user_id  merchant_id  label  age_range  gender\n",
       "0    34176         3906      0        6.0     0.0\n",
       "1    34176          121      0        6.0     0.0\n",
       "2    34176         4356      1        6.0     0.0\n",
       "3    34176         2217      0        6.0     0.0\n",
       "4   230784         4818      0        0.0     0.0"
      ]
     },
     "execution_count": 25,
     "metadata": {},
     "output_type": "execute_result"
    }
   ],
   "source": [
    "# 根据user_id合并训练数据集和用户信息数据集\n",
    "train_data_user_info = train_data.merge(user_info,on=['user_id'],how='left')\n",
    "train_data_user_info.head(5)"
   ]
  },
  {
   "cell_type": "markdown",
   "id": "f3a21da5",
   "metadata": {},
   "source": [
    "### 查看用户性别和复购的关系"
   ]
  },
  {
   "cell_type": "code",
   "execution_count": 26,
   "id": "f247b4a0",
   "metadata": {},
   "outputs": [
    {
     "data": {
      "image/png": "[encoded data removed]",
      "text/plain": [
       "<Figure size 432x432 with 1 Axes>"
      ]
     },
     "metadata": {
      "needs_background": "light"
     },
     "output_type": "display_data"
    }
   ],
   "source": [
    "plt.figure(figsize=(6,6))\n",
    "plt.title(\"Gender VS Label\")\n",
    "ax = sns.countplot(data=train_data_user_info,x='gender',hue='label')"
   ]
  },
  {
   "cell_type": "markdown",
   "id": "c43e08fe",
   "metadata": {},
   "source": [
    "女性购买次数最多，男性购买次数较少"
   ]
  },
  {
   "cell_type": "markdown",
   "id": "d9104832",
   "metadata": {},
   "source": [
    "### 查看用户不同性别的复购概率分布"
   ]
  },
  {
   "cell_type": "code",
   "execution_count": 27,
   "id": "285d499b",
   "metadata": {},
   "outputs": [
    {
     "data": {
      "text/plain": [
       "gender\n",
       "0.0    0.064547\n",
       "1.0    0.053813\n",
       "2.0    0.069025\n",
       "Name: label, dtype: float64"
      ]
     },
     "execution_count": 27,
     "metadata": {},
     "output_type": "execute_result"
    }
   ],
   "source": [
    "gender_repeat_buy = train_data_user_info.groupby('gender')['label'].mean()\n",
    "gender_repeat_buy"
   ]
  },
  {
   "cell_type": "markdown",
   "id": "d15d5e2d",
   "metadata": {},
   "source": [
    "**gender**: 0:女性 | 1：男性 | 2：未知"
   ]
  },
  {
   "cell_type": "code",
   "execution_count": 28,
   "id": "747614b0",
   "metadata": {},
   "outputs": [
    {
     "data": {
      "text/plain": [
       "Text(0.5, 1.0, 'Distribution of repurchase rates of different genders')"
      ]
     },
     "execution_count": 28,
     "metadata": {},
     "output_type": "execute_result"
    },
    {
     "data": {
      "image/png": "[encoded data removed]",
      "text/plain": [
       "<Figure size 720x360 with 1 Axes>"
      ]
     },
     "metadata": {
      "needs_background": "light"
     },
     "output_type": "display_data"
    }
   ],
   "source": [
    "#筛选复购率在（0,1]范围内的用户性别数据\n",
    "gender_repeat_buy = list(train_data_user_info.groupby('gender')['label'].mean())\n",
    "gender_repeat_buy = [n for n in gender_repeat_buy if (n > 0 and n <= 1)]\n",
    "# 生成不同性别的复购率分布直方图&qq图\n",
    "plt.figure(figsize=(10,5))\n",
    "ax = plt.subplot(1,2,1)\n",
    "sns.distplot(gender_repeat_buy,fit=stats.norm)\n",
    "plt.title('Distribution of repurchase rates of different genders')\n",
    "# ax = plt.subplot(1,2,2)\n",
    "# stats.probplot(gender_repeat_buy,dist=\"norm\",plot=plt)"
   ]
  },
  {
   "cell_type": "markdown",
   "id": "596d31d7",
   "metadata": {},
   "source": [
    "左图中两个柱形分别表示男性复购率和女性复购率（从左往右）。\n",
    "\n",
    "从上述概率分布直方图中可以看出男女的复购率有很大区别。\n",
    "### 查看用户年龄与复购的关系"
   ]
  },
  {
   "cell_type": "code",
   "execution_count": 29,
   "id": "4fbf440d",
   "metadata": {},
   "outputs": [
    {
     "data": {
      "image/png": "[encoded data removed]",
      "text/plain": [
       "<Figure size 432x432 with 1 Axes>"
      ]
     },
     "metadata": {
      "needs_background": "light"
     },
     "output_type": "display_data"
    }
   ],
   "source": [
    "plt.figure(figsize=(6,6))\n",
    "plt.title('Age VS Label')\n",
    "ax = sns.countplot(data=train_data_user_info,x='age_range',hue='label')"
   ]
  },
  {
   "cell_type": "markdown",
   "id": "4b59ed52",
   "metadata": {},
   "source": [
    "### 查看用户年龄的复购概率分布"
   ]
  },
  {
   "cell_type": "markdown",
   "id": "831eba93",
   "metadata": {},
   "source": [
    "**age**: **<18岁**为1  |  **[18,24]** 为2  |  **[25,29]** 为3  |  **[30,34]** 为4  |  **[35,39]** 为5  |  **[40,49]** 为6  |  **> = 50** 为7和8  |  **0和NULL**表示未知"
   ]
  },
  {
   "cell_type": "code",
   "execution_count": 40,
   "id": "c72a98e3",
   "metadata": {},
   "outputs": [
    {
     "data": {
      "text/plain": [
       "Text(0.5, 1.0, 'Quantile-Quantile Plot')"
      ]
     },
     "execution_count": 40,
     "metadata": {},
     "output_type": "execute_result"
    },
    {
     "data": {
      "image/png": "[encoded data removed]",
      "text/plain": [
       "<Figure size 720x360 with 1 Axes>"
      ]
     },
     "metadata": {
      "needs_background": "light"
     },
     "output_type": "display_data"
    },
    {
     "data": {
      "image/png": "[encoded data removed]",
      "text/plain": [
       "<Figure size 360x360 with 1 Axes>"
      ]
     },
     "metadata": {
      "needs_background": "light"
     },
     "output_type": "display_data"
    }
   ],
   "source": [
    "age_repeat_buy = list(train_data_user_info.groupby('age_range')['label'].mean())\n",
    "age_repeat_buy = [n for n in age_repeat_buy if (n > 0 and n <= 1)]\n",
    "different_age_buy = train_data_user_info.groupby('age_range')['label'].mean()\n",
    "\n",
    "\n",
    "plt.figure(figsize=(10,5))\n",
    "x = np.array(['Unknown','<18','[18,24]','[25,29]','[30,34]','[35,39]','[40,49] ','> = 50','> = 50'])\n",
    "y = different_age_buy\n",
    "plt.bar(x,y)\n",
    "plt.title('Repurchase_rate VS Age')\n",
    "# different_age_buy.plot.bar(title='Repurchase_rate VS Age')\n",
    "plt.figure(figsize=(5,5))\n",
    "stats.probplot(age_repeat_buy,dist=\"norm\",plot=plt)\n",
    "plt.title('Quantile-Quantile Plot')"
   ]
  },
  {
   "cell_type": "markdown",
   "id": "180633fa",
   "metadata": {},
   "source": [
    "**[Finding]**\n",
    "\n",
    "**左图**：不同年龄段的用户的复购率不同，<18岁无购物记录\n",
    "\n",
    "**右图**：所有用户的复购率不服从正态分布"
   ]
  }
 ],
 "metadata": {
  "kernelspec": {
   "display_name": "Python 3 (ipykernel)",
   "language": "python",
   "name": "python3"
  },
  "language_info": {
   "codemirror_mode": {
    "name": "ipython",
    "version": 3
   },
   "file_extension": ".py",
   "mimetype": "text/x-python",
   "name": "python",
   "nbconvert_exporter": "python",
   "pygments_lexer": "ipython3",
   "version": "3.9.7"
  }
 },
 "nbformat": 4,
 "nbformat_minor": 5
}
